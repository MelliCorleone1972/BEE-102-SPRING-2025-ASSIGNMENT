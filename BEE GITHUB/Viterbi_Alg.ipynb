{
 "cells": [
  {
   "cell_type": "markdown",
   "id": "a6f875d4",
   "metadata": {},
   "source": [
    "### Implementing the Viterbi Algorithm for a given sequence and calculating the log probability for a given sequence."
   ]
  },
  {
   "cell_type": "markdown",
   "id": "983c7327",
   "metadata": {},
   "source": [
    "Defining the states, the transition probabilities and the emission probabilities."
   ]
  },
  {
   "cell_type": "code",
   "execution_count": 3,
   "id": "b57f33de",
   "metadata": {},
   "outputs": [],
   "source": [
    "import math\n",
    "\n",
    "states = ['E', '5', 'I']\n",
    "\n",
    "transitions = {\n",
    "    'E': {'E': math.log(0.9), '5': math.log(0.1), 'I':float('-inf')},\n",
    "    '5': {'E':float('-inf'), '5':float('-inf'), 'I': math.log(1.0)},\n",
    "    'I': {'E':float('-inf'), '5':float('-inf'), 'I': math.log(0.9)}\n",
    "}\n",
    "\n",
    "emissions = {\n",
    "    'E': {'A': math.log(0.25), 'C': math.log(0.25), 'G': math.log(0.25), 'T': math.log(0.25)},\n",
    "    '5': {'A': math.log(0.05), 'C': float('-inf'), 'G': math.log(0.95), 'T': float('-inf')},\n",
    "    'I': {'A': math.log(0.4), 'C': math.log(0.1), 'G': math.log(0.1), 'T': math.log(0.4)}\n",
    "}\n"
   ]
  },
  {
   "cell_type": "markdown",
   "id": "310be9fb",
   "metadata": {},
   "source": [
    "Implementation of the Viterbi algorithm."
   ]
  },
  {
   "cell_type": "code",
   "execution_count": 5,
   "id": "1a079c2a",
   "metadata": {},
   "outputs": [
    {
     "name": "stdout",
     "output_type": "stream",
     "text": [
      "EEEEEEEEEEEEEEE\n"
     ]
    }
   ],
   "source": [
    "s=\"AGGCTCTCCATAAGG\"\n",
    "n = len(s)\n",
    "V=[{} for _ in range(n)]\n",
    "back_track=[{} for _ in range(n)]\n",
    "\n",
    "for st in states:\n",
    "    if(st == 'E'):\n",
    "        V[0][st] = emissions[st][s[0]]\n",
    "    else:\n",
    "        V[0][st] = float('-inf')\n",
    "        \n",
    "# Fill the probability table and the backtracking table\n",
    "for i in range(1,n):\n",
    "    for cur_st in states:\n",
    "        max_p = float('-inf')\n",
    "        st_max_p = \"\"\n",
    "        for prev_st in states:\n",
    "            p = V[i-1][prev_st] + transitions[prev_st][cur_st] + emissions[cur_st][s[i]]\n",
    "            if p > max_p:\n",
    "                max_p = p\n",
    "                st_max_p = prev_st\n",
    "        V[i][cur_st] = max_p\n",
    "        back_track[i][cur_st] = st_max_p\n",
    "\n",
    "#Backtracking the path\n",
    "maxp=float('-inf')\n",
    "best_last_state=''\n",
    "for st in states:\n",
    "    if V[n-1][st] > maxp:\n",
    "        maxp = V[n-1][st]\n",
    "        best_last_state = st\n",
    "        \n",
    "best_path = [best_last_state]\n",
    "for t in range(n-1, 0, -1):\n",
    "    best_last_state = back_track[t][best_last_state]\n",
    "    best_path.insert(0, best_last_state)\n",
    "    \n",
    "print(''.join([i for i in best_path]))"
   ]
  },
  {
   "cell_type": "markdown",
   "id": "37968bc0",
   "metadata": {},
   "source": [
    "Calculating the log probability for a given DNA sequence and state path."
   ]
  },
  {
   "cell_type": "code",
   "execution_count": 7,
   "id": "29c96a77",
   "metadata": {},
   "outputs": [
    {
     "name": "stdout",
     "output_type": "stream",
     "text": [
      "The log probability for the given sequence and path is: -42.24\n"
     ]
    }
   ],
   "source": [
    "s=\"CTTCATGTGAAAGCAGACGTAAGTCAA\"\n",
    "path=\"EEEEEEEEEEEEEEEEEE5IIIIIIII\"\n",
    "\n",
    "def get_log_prob_of_a_given_path(s, path):\n",
    "    assert len(path) == len(s), \"Path and sequence must be the same length\"\n",
    "\n",
    "    n = len(s)\n",
    "\n",
    "    log_prob = 0.0\n",
    "    for i in range(n):\n",
    "        if i==0:\n",
    "            if(path[i] != 'E'):\n",
    "                log_prob = float('-inf')\n",
    "                break\n",
    "            else:\n",
    "                log_prob = emissions[path[i]][s[i]]\n",
    "        else:\n",
    "            log_prob += transitions[path[i-1]][path[i]] + emissions[path[i]][s[i]]\n",
    "\n",
    "    # Since the probability from I -> end is 0.1\n",
    "    log_prob += math.log(0.1)\n",
    "    \n",
    "    return log_prob\n",
    "\n",
    "print(f\"The log probability for the given sequence and path is: {get_log_prob_of_a_given_path(s, path):.2f}\")"
   ]
  }
 ],
 "metadata": {
  "kernelspec": {
   "display_name": "Python 3 (ipykernel)",
   "language": "python",
   "name": "python3"
  },
  "language_info": {
   "codemirror_mode": {
    "name": "ipython",
    "version": 3
   },
   "file_extension": ".py",
   "mimetype": "text/x-python",
   "name": "python",
   "nbconvert_exporter": "python",
   "pygments_lexer": "ipython3",
   "version": "3.12.3"
  }
 },
 "nbformat": 4,
 "nbformat_minor": 5
}
