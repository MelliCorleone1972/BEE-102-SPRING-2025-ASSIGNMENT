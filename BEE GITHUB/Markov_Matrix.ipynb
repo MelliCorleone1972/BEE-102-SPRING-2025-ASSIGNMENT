{
 "cells": [
  {
   "cell_type": "markdown",
   "id": "f5b418a6",
   "metadata": {},
   "source": [
    "### Print the Markov transition matrix from a given DNA sequence."
   ]
  },
  {
   "cell_type": "markdown",
   "id": "18392345",
   "metadata": {},
   "source": [
    "Taking input and checking for validity."
   ]
  },
  {
   "cell_type": "code",
   "execution_count": 3,
   "id": "24291f98",
   "metadata": {},
   "outputs": [
    {
     "name": "stdin",
     "output_type": "stream",
     "text": [
      "Enter the DNA sequence:  AGTCAAGGTTCCGTCA\n"
     ]
    },
    {
     "name": "stdout",
     "output_type": "stream",
     "text": [
      "You entered the sequence: AGTCAAGGTTCCGTCA\n"
     ]
    }
   ],
   "source": [
    "s = input(\"Enter the DNA sequence: \")\n",
    "print(\"You entered the sequence:\", s)\n",
    "for c in s:\n",
    "    if c not in {'A','G','T','C'}:\n",
    "        print(\"You entered an invalid DNA sequence.\")\n",
    "        break"
   ]
  },
  {
   "cell_type": "markdown",
   "id": "66f6a81c",
   "metadata": {},
   "source": [
    "Computing the observed dinucleotide probabilities and base frequencies."
   ]
  },
  {
   "cell_type": "code",
   "execution_count": 11,
   "id": "78747d51",
   "metadata": {},
   "outputs": [
    {
     "name": "stdout",
     "output_type": "stream",
     "text": [
      "Observed dinucleotide frequencies:\n",
      "AA: 0.06666666666666667\n",
      "AC: 0.0\n",
      "AG: 0.13333333333333333\n",
      "AT: 0.0\n",
      "CA: 0.13333333333333333\n",
      "CC: 0.06666666666666667\n",
      "CG: 0.06666666666666667\n",
      "CT: 0.0\n",
      "GA: 0.0\n",
      "GC: 0.0\n",
      "GG: 0.06666666666666667\n",
      "GT: 0.2\n",
      "TA: 0.0\n",
      "TC: 0.2\n",
      "TG: 0.0\n",
      "TT: 0.06666666666666667\n",
      "\n",
      "Observed base frequencies:\n",
      "A: 0.2\n",
      "C: 0.26666666666666666\n",
      "G: 0.26666666666666666\n",
      "T: 0.26666666666666666\n"
     ]
    }
   ],
   "source": [
    "base_map={0: 'A', 1: 'C', 2: 'G', 3: 'T'}\n",
    "n = len(s)\n",
    "trp={}\n",
    "bp={}\n",
    "\n",
    "for i in range(4):\n",
    "    for j in range(4):\n",
    "        cnt = 0\n",
    "        for k in range(len(s)-1):\n",
    "            if(s[k]==base_map[i] and s[k+1]==base_map[j]):\n",
    "                cnt += 1\n",
    "        t=base_map[i]+base_map[j]\n",
    "        trp[t]=cnt/(n-1)\n",
    "\n",
    "print(\"Observed dinucleotide frequencies:\")\n",
    "for k, val in trp.items():\n",
    "        print(f\"{k}: {val}\")\n",
    "print()\n",
    "\n",
    "for i in range(4):\n",
    "    bp[base_map[i]] = 0\n",
    "    for j in range(4):\n",
    "        bp[base_map[i]] += trp[base_map[i]+base_map[j]]\n",
    "\n",
    "print(\"Observed base frequencies:\")\n",
    "for k, val in bp.items():\n",
    "        print(f\"{k}: {val}\")"
   ]
  },
  {
   "cell_type": "markdown",
   "id": "f715e6de",
   "metadata": {},
   "source": [
    "Calculating the Markov transition matrix by the conditional probability formula."
   ]
  },
  {
   "cell_type": "code",
   "execution_count": 15,
   "id": "19b14f69",
   "metadata": {},
   "outputs": [
    {
     "name": "stdout",
     "output_type": "stream",
     "text": [
      "The transition matrix for the given sequence is:\n",
      "\tA\tC\tG\tT\n",
      "A\t0.3333\t0.0000\t0.6667\t0.0000\t\n",
      "C\t0.5000\t0.2500\t0.2500\t0.0000\t\n",
      "G\t0.0000\t0.0000\t0.2500\t0.7500\t\n",
      "T\t0.0000\t0.7500\t0.0000\t0.2500\t\n"
     ]
    }
   ],
   "source": [
    "trm=[[0,0,0,0],[0,0,0,0],[0,0,0,0],[0,0,0,0]]\n",
    "\n",
    "for i in range(4):\n",
    "    for j in range(4):\n",
    "        dinuc=base_map[i]+base_map[j]\n",
    "        if(bp[base_map[i]]):\n",
    "            trm[i][j]=trp[dinuc]/bp[base_map[i]]\n",
    "        \n",
    "print(\"The transition matrix for the given sequence is:\")\n",
    "print(\"\",\"A\",\"C\",\"G\",\"T\",sep=\"\\t\")\n",
    "for i in range(4):\n",
    "    print(base_map[i],end=\"\\t\")\n",
    "    for j in range(4):\n",
    "        print(f\"{trm[i][j]:.4f}\", end=\"\\t\")\n",
    "    print()"
   ]
  },
  {
   "cell_type": "code",
   "execution_count": null,
   "id": "bb5d00db-27cf-4e41-a146-504962a85edf",
   "metadata": {},
   "outputs": [],
   "source": []
  }
 ],
 "metadata": {
  "kernelspec": {
   "display_name": "Python 3 (ipykernel)",
   "language": "python",
   "name": "python3"
  },
  "language_info": {
   "codemirror_mode": {
    "name": "ipython",
    "version": 3
   },
   "file_extension": ".py",
   "mimetype": "text/x-python",
   "name": "python",
   "nbconvert_exporter": "python",
   "pygments_lexer": "ipython3",
   "version": "3.12.3"
  }
 },
 "nbformat": 4,
 "nbformat_minor": 5
}
