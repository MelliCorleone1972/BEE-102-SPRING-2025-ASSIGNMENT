{
 "cells": [
  {
   "cell_type": "markdown",
   "id": "5dd4ce3c",
   "metadata": {},
   "source": [
    "### Multi-line sequence fasta to single-line fasta file."
   ]
  },
  {
   "cell_type": "markdown",
   "id": "9855b5f8",
   "metadata": {},
   "source": [
    "Input file is in the folder, given in the assignment, titled 'multiline_input.fasta'. The output file is also in the folder, titled 'output.fasta', which is empty right now."
   ]
  },
  {
   "cell_type": "code",
   "execution_count": 3,
   "id": "05c83630",
   "metadata": {},
   "outputs": [],
   "source": [
    "input_file = \"multiline_input.fasta\"\n",
    "output_file = \"output.txt\"\n",
    "\n",
    "with open(input_file, 'r') as file_in, open(output_file, 'w') as file_out:\n",
    "    current_sequence = \"\"\n",
    "    \n",
    "    for line in file_in:\n",
    "        line = line.strip()\n",
    "        if line.startswith('>'):\n",
    "            if current_sequence:\n",
    "                file_out.write(current_sequence + \"\\n\")\n",
    "                current_sequence = \"\"\n",
    "            file_out.write(line + \"\\n\")\n",
    "        else:\n",
    "            current_sequence += line\n",
    "    \n",
    "    if current_sequence:\n",
    "        file_out.write(current_sequence + \"\\n\")\n"
   ]
  }
 ],
 "metadata": {
  "kernelspec": {
   "display_name": "Python 3 (ipykernel)",
   "language": "python",
   "name": "python3"
  },
  "language_info": {
   "codemirror_mode": {
    "name": "ipython",
    "version": 3
   },
   "file_extension": ".py",
   "mimetype": "text/x-python",
   "name": "python",
   "nbconvert_exporter": "python",
   "pygments_lexer": "ipython3",
   "version": "3.12.3"
  }
 },
 "nbformat": 4,
 "nbformat_minor": 5
}
